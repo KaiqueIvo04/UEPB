{
 "cells": [
  {
   "cell_type": "markdown",
   "metadata": {},
   "source": [
    "# Gutenberg Gait Database | Data Import "
   ]
  },
  {
   "cell_type": "code",
   "execution_count": null,
   "metadata": {},
   "outputs": [],
   "source": [
    "# Copyright (C)  2021  Djordje Slijepcevic\n",
    "#\n",
    "# This program is free software: you can redistribute it and/or modify\n",
    "# it under the terms of the GNU General Public License as published by\n",
    "# the Free Software Foundation, either version 3 of the License, or\n",
    "# (at your option) any later version.\n",
    "#\n",
    "# This program is distributed in the hope that it will be useful,\n",
    "# but WITHOUT ANY WARRANTY; without even the implied warranty of\n",
    "# MERCHANTABILITY or FITNESS FOR A PARTICULAR PURPOSE. See the\n",
    "# GNU General Public License for more details.\n",
    "# \n",
    "# You should have received a copy of the GNU General Public License\n",
    "# along with this program. If not, see <http://www.gnu.org/licenses/>."
   ]
  },
  {
   "cell_type": "code",
   "execution_count": null,
   "metadata": {},
   "outputs": [],
   "source": [
    "import pandas as pd\n",
    "import os"
   ]
  },
  {
   "cell_type": "code",
   "execution_count": null,
   "metadata": {},
   "outputs": [],
   "source": [
    "# Path to data\n",
    "path = 'GutenbergGaitDatabase/'\n",
    "\n",
    "# Left lower extremity\n",
    "GRF_F_V_PRO_left = pd.read_csv(os.path.join(path,'GRF_F_V_PRO_left.csv'))\n",
    "GRF_F_V_RAW_left = pd.read_csv(os.path.join(path,'GRF_F_V_RAW_left.csv'))\n",
    "\n",
    "GRF_F_AP_PRO_left = pd.read_csv(os.path.join(path,'GRF_F_AP_PRO_left.csv'))\n",
    "GRF_F_AP_RAW_left = pd.read_csv(os.path.join(path,'GRF_F_AP_RAW_left.csv'))\n",
    "\n",
    "GRF_F_ML_PRO_left = pd.read_csv(os.path.join(path,'GRF_F_ML_PRO_left.csv'))\n",
    "GRF_F_ML_RAW_left = pd.read_csv(os.path.join(path,'GRF_F_ML_RAW_left.csv'))\n",
    "\n",
    "GRF_COP_AP_PRO_left = pd.read_csv(os.path.join(path,'GRF_COP_AP_PRO_left.csv'))\n",
    "GRF_COP_AP_RAW_left = pd.read_csv(os.path.join(path,'GRF_COP_AP_RAW_left.csv'))\n",
    "\n",
    "GRF_COP_ML_PRO_left = pd.read_csv(os.path.join(path,'GRF_COP_ML_PRO_left.csv'))\n",
    "GRF_COP_ML_RAW_left = pd.read_csv(os.path.join(path,'GRF_COP_ML_RAW_left.csv'))\n",
    "\n",
    "# Right lower extremity\n",
    "GRF_F_V_PRO_right = pd.read_csv(os.path.join(path,'GRF_F_V_PRO_right.csv'))\n",
    "GRF_F_V_RAW_right = pd.read_csv(os.path.join(path,'GRF_F_V_RAW_right.csv'))\n",
    "\n",
    "GRF_F_AP_PRO_right = pd.read_csv(os.path.join(path,'GRF_F_AP_PRO_right.csv'))\n",
    "GRF_F_AP_RAW_right = pd.read_csv(os.path.join(path,'GRF_F_AP_RAW_right.csv'))\n",
    "\n",
    "GRF_F_ML_PRO_right = pd.read_csv(os.path.join(path,'GRF_F_ML_PRO_right.csv'))\n",
    "GRF_F_ML_RAW_right = pd.read_csv(os.path.join(path,'GRF_F_ML_RAW_right.csv'))\n",
    "\n",
    "GRF_COP_AP_PRO_right = pd.read_csv(os.path.join(path,'GRF_COP_AP_PRO_right.csv'))\n",
    "GRF_COP_AP_RAW_right = pd.read_csv(os.path.join(path,'GRF_COP_AP_RAW_right.csv'))\n",
    "\n",
    "GRF_COP_ML_PRO_right = pd.read_csv(os.path.join(path,'GRF_COP_ML_PRO_right.csv'))\n",
    "GRF_COP_ML_RAW_right = pd.read_csv(os.path.join(path,'GRF_COP_ML_RAW_right.csv'))\n",
    "\n",
    "# Walking Speed\n",
    "GRF_walking_speed = pd.read_csv(os.path.join(path,'GRF_walking_speed.csv')) \n",
    "\n",
    "# Metadata\n",
    "GRF_metadata = pd.read_csv(os.path.join(path,'GRF_metadata.csv'))\n"
   ]
  },
  {
   "cell_type": "markdown",
   "metadata": {},
   "source": [
    "## Processed Data"
   ]
  },
  {
   "cell_type": "markdown",
   "metadata": {},
   "source": [
    "### Left Lower Extremity"
   ]
  },
  {
   "cell_type": "code",
   "execution_count": null,
   "metadata": {},
   "outputs": [],
   "source": [
    "GRF_F_V_PRO_left.head()"
   ]
  },
  {
   "cell_type": "code",
   "execution_count": null,
   "metadata": {},
   "outputs": [],
   "source": [
    "GRF_F_AP_PRO_left.head()"
   ]
  },
  {
   "cell_type": "code",
   "execution_count": null,
   "metadata": {},
   "outputs": [],
   "source": [
    "GRF_F_ML_PRO_left.head()"
   ]
  },
  {
   "cell_type": "code",
   "execution_count": null,
   "metadata": {},
   "outputs": [],
   "source": [
    "GRF_COP_AP_PRO_left.head()"
   ]
  },
  {
   "cell_type": "code",
   "execution_count": null,
   "metadata": {},
   "outputs": [],
   "source": [
    "GRF_COP_ML_PRO_left.head()"
   ]
  },
  {
   "cell_type": "markdown",
   "metadata": {},
   "source": [
    "### Right Lower Extremity"
   ]
  },
  {
   "cell_type": "code",
   "execution_count": null,
   "metadata": {},
   "outputs": [],
   "source": [
    "GRF_F_V_PRO_right.head()"
   ]
  },
  {
   "cell_type": "code",
   "execution_count": null,
   "metadata": {},
   "outputs": [],
   "source": [
    "GRF_F_AP_PRO_right.head()"
   ]
  },
  {
   "cell_type": "code",
   "execution_count": null,
   "metadata": {},
   "outputs": [],
   "source": [
    "GRF_F_ML_PRO_right.head()"
   ]
  },
  {
   "cell_type": "code",
   "execution_count": null,
   "metadata": {},
   "outputs": [],
   "source": [
    "GRF_COP_AP_PRO_right.head()"
   ]
  },
  {
   "cell_type": "code",
   "execution_count": null,
   "metadata": {},
   "outputs": [],
   "source": [
    "GRF_COP_ML_PRO_right.head()"
   ]
  },
  {
   "cell_type": "markdown",
   "metadata": {},
   "source": [
    "## Raw Data"
   ]
  },
  {
   "cell_type": "markdown",
   "metadata": {},
   "source": [
    "### Left Lower Extremity\n"
   ]
  },
  {
   "cell_type": "code",
   "execution_count": null,
   "metadata": {},
   "outputs": [],
   "source": [
    "GRF_F_V_RAW_left.head()"
   ]
  },
  {
   "cell_type": "code",
   "execution_count": null,
   "metadata": {},
   "outputs": [],
   "source": [
    "GRF_F_AP_RAW_left.head()"
   ]
  },
  {
   "cell_type": "code",
   "execution_count": null,
   "metadata": {},
   "outputs": [],
   "source": [
    "GRF_F_ML_RAW_left.head()"
   ]
  },
  {
   "cell_type": "code",
   "execution_count": null,
   "metadata": {},
   "outputs": [],
   "source": [
    "GRF_COP_AP_RAW_left.head()"
   ]
  },
  {
   "cell_type": "code",
   "execution_count": null,
   "metadata": {},
   "outputs": [],
   "source": [
    "GRF_COP_ML_RAW_left.head()"
   ]
  },
  {
   "cell_type": "markdown",
   "metadata": {},
   "source": [
    "### Right Lower Extremity"
   ]
  },
  {
   "cell_type": "code",
   "execution_count": null,
   "metadata": {},
   "outputs": [],
   "source": [
    "GRF_F_V_RAW_right.head()"
   ]
  },
  {
   "cell_type": "code",
   "execution_count": null,
   "metadata": {},
   "outputs": [],
   "source": [
    "GRF_F_AP_RAW_right.head()"
   ]
  },
  {
   "cell_type": "code",
   "execution_count": null,
   "metadata": {},
   "outputs": [],
   "source": [
    "GRF_F_ML_RAW_right.head()"
   ]
  },
  {
   "cell_type": "code",
   "execution_count": null,
   "metadata": {},
   "outputs": [],
   "source": [
    "GRF_COP_AP_RAW_right.head()"
   ]
  },
  {
   "cell_type": "code",
   "execution_count": null,
   "metadata": {
    "scrolled": true
   },
   "outputs": [],
   "source": [
    "GRF_COP_ML_RAW_right.head()"
   ]
  },
  {
   "cell_type": "markdown",
   "metadata": {},
   "source": [
    "## Walking speed"
   ]
  },
  {
   "cell_type": "code",
   "execution_count": null,
   "metadata": {},
   "outputs": [],
   "source": [
    "GRF_walking_speed"
   ]
  },
  {
   "cell_type": "markdown",
   "metadata": {},
   "source": [
    "## Metadata"
   ]
  },
  {
   "cell_type": "code",
   "execution_count": null,
   "metadata": {},
   "outputs": [],
   "source": [
    "GRF_metadata"
   ]
  }
 ],
 "metadata": {
  "kernelspec": {
   "display_name": "Python 3",
   "language": "python",
   "name": "python3"
  },
  "language_info": {
   "codemirror_mode": {
    "name": "ipython",
    "version": 3
   },
   "file_extension": ".py",
   "mimetype": "text/x-python",
   "name": "python",
   "nbconvert_exporter": "python",
   "pygments_lexer": "ipython3",
   "version": "3.7.5"
  },
  "toc": {
   "base_numbering": 1,
   "nav_menu": {},
   "number_sections": false,
   "sideBar": false,
   "skip_h1_title": false,
   "title_cell": "Table of Contents",
   "title_sidebar": "Contents",
   "toc_cell": false,
   "toc_position": {},
   "toc_section_display": false,
   "toc_window_display": false
  }
 },
 "nbformat": 4,
 "nbformat_minor": 2
}
